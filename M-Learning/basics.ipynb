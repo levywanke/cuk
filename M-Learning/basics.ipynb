{
 "cells": [
  {
   "cell_type": "code",
   "execution_count": 17,
   "id": "83dc5479-3172-4e92-9466-e51fc4835be0",
   "metadata": {},
   "outputs": [
    {
     "name": "stdout",
     "output_type": "stream",
     "text": [
      "0     5\n",
      "1    10\n",
      "2    15\n",
      "3    20\n",
      "4    25\n",
      "5    30\n",
      "dtype: int64\n",
      "\n",
      "\n",
      "RangeIndex(start=0, stop=6, step=1)\n",
      "\n",
      "\n",
      "[ 5 10 15 20 25 30]\n",
      "\n",
      "\n",
      "0     5.50\n",
      "1    10.60\n",
      "2    15.90\n",
      "3    20.13\n",
      "4    25.50\n",
      "5    30.25\n",
      "dtype: float64\n",
      "\n",
      "\n",
      "5.5\n",
      "\n",
      "\n",
      "RangeIndex(start=0, stop=6, step=1)\n",
      "\n",
      "\n",
      "[ 5.5  10.6  15.9  20.13 25.5  30.25]\n",
      "\n",
      "\n"
     ]
    }
   ],
   "source": [
    "import pandas as pd\n",
    "import numpy as np\n",
    "\n",
    "obj= pd.Series([5,10,15,20,25,30])\n",
    "print(obj)\n",
    "print('\\n')\n",
    "print(obj.index)\n",
    "print('\\n')\n",
    "print(obj.values)\n",
    "print('\\n')\n",
    "\n",
    "obj2= pd.Series([5.5,10.6,15.9,20.13,25.50,30.25])\n",
    "print(obj2)\n",
    "print('\\n')\n",
    "print(obj2[0])\n",
    "print('\\n')\n",
    "print(obj2.index)\n",
    "print('\\n')\n",
    "print(obj2.values)\n",
    "print('\\n')\n"
   ]
  },
  {
   "cell_type": "code",
   "execution_count": 18,
   "id": "53e9ecd1-e057-4949-910b-f75325e86566",
   "metadata": {},
   "outputs": [
    {
     "name": "stdout",
     "output_type": "stream",
     "text": [
      "Nairobi    10000\n",
      "Mombasa    20000\n",
      "Nakuru     15000\n",
      "Bungoma    25000\n",
      "Kajiado    35000\n",
      "Homabay        0\n",
      "dtype: int64\n"
     ]
    }
   ],
   "source": [
    "Sdata={\"Nairobi\":10000,\"Mombasa\":20000,\"Nakuru\":15000,\"Bungoma\":25000,\"Kajiado\":35000,\"Homabay\":0,}\n",
    "obj3=pd.Series(Sdata)\n",
    "print(obj3)\n"
   ]
  },
  {
   "cell_type": "code",
   "execution_count": 20,
   "id": "d9f6b518-7d94-4447-926d-7e1cc6560ec5",
   "metadata": {},
   "outputs": [
    {
     "name": "stdout",
     "output_type": "stream",
     "text": [
      "0        Levy\n",
      "1       Amigo\n",
      "2         Gus\n",
      "3       Fring\n",
      "4     Gustavo\n",
      "5       Prime\n",
      "6    Wanyonyi\n",
      "7      Palmer\n",
      "8        Noni\n",
      "9     Jackson\n",
      "dtype: object\n"
     ]
    }
   ],
   "source": [
    "names = ['Levy','Amigo','Gus','Fring','Gustavo','Prime','Wanyonyi','Palmer','Noni','Jackson']\n",
    "obj4 = pd.Series(names)\n",
    "print(obj4)"
   ]
  },
  {
   "cell_type": "code",
   "execution_count": 22,
   "id": "8fbe6f08-acd3-4baa-8751-01fbcca25794",
   "metadata": {},
   "outputs": [
    {
     "name": "stdout",
     "output_type": "stream",
     "text": [
      "Nairobi    False\n",
      "Mombasa    False\n",
      "Nakuru     False\n",
      "Bungoma    False\n",
      "Kajiado    False\n",
      "Homabay    False\n",
      "dtype: bool\n"
     ]
    }
   ],
   "source": [
    "print(obj3.isnull())"
   ]
  },
  {
   "cell_type": "code",
   "execution_count": 23,
   "id": "2801aff1-7cee-4ec9-963c-49db013fb27f",
   "metadata": {},
   "outputs": [
    {
     "name": "stdout",
     "output_type": "stream",
     "text": [
      "0    False\n",
      "1    False\n",
      "2    False\n",
      "3    False\n",
      "4    False\n",
      "5    False\n",
      "dtype: bool\n"
     ]
    }
   ],
   "source": [
    "print(obj2.isnull())"
   ]
  },
  {
   "cell_type": "code",
   "execution_count": 24,
   "id": "52ff579d-d04e-4b5f-ae00-d6ef64da5c72",
   "metadata": {},
   "outputs": [
    {
     "name": "stdout",
     "output_type": "stream",
     "text": [
      "Nairobi    True\n",
      "Mombasa    True\n",
      "Nakuru     True\n",
      "Bungoma    True\n",
      "Kajiado    True\n",
      "Homabay    True\n",
      "dtype: bool\n"
     ]
    }
   ],
   "source": [
    "print(obj3.notnull())"
   ]
  },
  {
   "cell_type": "code",
   "execution_count": 26,
   "id": "2b5ffae9-39b9-4912-a644-d5722c8f50ee",
   "metadata": {},
   "outputs": [
    {
     "name": "stdout",
     "output_type": "stream",
     "text": [
      "0    True\n",
      "1    True\n",
      "2    True\n",
      "3    True\n",
      "4    True\n",
      "5    True\n",
      "dtype: bool\n"
     ]
    }
   ],
   "source": [
    "print(obj2.notnull())"
   ]
  },
  {
   "cell_type": "code",
   "execution_count": 34,
   "id": "d1c05677-9bcd-4072-bbc9-7d46ace7a973",
   "metadata": {},
   "outputs": [
    {
     "name": "stdout",
     "output_type": "stream",
     "text": [
      "countyname\n",
      "Nairobi    10000\n",
      "Mombasa    20000\n",
      "Nakuru     15000\n",
      "Bungoma    25000\n",
      "Kajiado    35000\n",
      "Homabay        0\n",
      "Name: counties, dtype: int64\n"
     ]
    }
   ],
   "source": [
    "obj3.name = 'counties'\n",
    "print(obj3)"
   ]
  },
  {
   "cell_type": "code",
   "execution_count": 35,
   "id": "2d856712-960b-4732-ac92-b25058aaf291",
   "metadata": {},
   "outputs": [
    {
     "name": "stdout",
     "output_type": "stream",
     "text": [
      "countyname\n",
      "Nairobi    10000\n",
      "Mombasa    20000\n",
      "Nakuru     15000\n",
      "Bungoma    25000\n",
      "Kajiado    35000\n",
      "Homabay        0\n",
      "Name: counties, dtype: int64\n"
     ]
    }
   ],
   "source": [
    "obj3.index.name = 'countyname'\n",
    "print(obj3)"
   ]
  },
  {
   "cell_type": "code",
   "execution_count": 41,
   "id": "36abf898-76ae-4490-8f4f-f0f798062137",
   "metadata": {},
   "outputs": [
    {
     "name": "stdout",
     "output_type": "stream",
     "text": [
      "  studentname   YOB  weight\n",
      "0        levy  2002   50.25\n",
      "1       james  2004   45.65\n",
      "2        john  2006   38.50\n",
      "3       alice  2000   60.85\n",
      "4         bob  2008   72.40\n",
      "5     hillary  2010   65.65\n"
     ]
    }
   ],
   "source": [
    "data = {'studentname':['levy','james','john','alice','bob','hillary'], 'YOB':[2002,2004,2006,2000,2008,2010],'weight':[50.25,45.65,38.50,60.85,72.40,65.65]}\n",
    "\n",
    "students = pd.DataFrame(data)\n",
    "print(students)"
   ]
  },
  {
   "cell_type": "code",
   "execution_count": 44,
   "id": "ee8cb567-4e52-425d-a312-df8ec9f1f67b",
   "metadata": {},
   "outputs": [
    {
     "data": {
      "text/html": [
       "<div>\n",
       "<style scoped>\n",
       "    .dataframe tbody tr th:only-of-type {\n",
       "        vertical-align: middle;\n",
       "    }\n",
       "\n",
       "    .dataframe tbody tr th {\n",
       "        vertical-align: top;\n",
       "    }\n",
       "\n",
       "    .dataframe thead th {\n",
       "        text-align: right;\n",
       "    }\n",
       "</style>\n",
       "<table border=\"1\" class=\"dataframe\">\n",
       "  <thead>\n",
       "    <tr style=\"text-align: right;\">\n",
       "      <th></th>\n",
       "      <th>studentname</th>\n",
       "      <th>YOB</th>\n",
       "      <th>weight</th>\n",
       "    </tr>\n",
       "  </thead>\n",
       "  <tbody>\n",
       "    <tr>\n",
       "      <th>0</th>\n",
       "      <td>levy</td>\n",
       "      <td>2002</td>\n",
       "      <td>50.25</td>\n",
       "    </tr>\n",
       "    <tr>\n",
       "      <th>1</th>\n",
       "      <td>james</td>\n",
       "      <td>2004</td>\n",
       "      <td>45.65</td>\n",
       "    </tr>\n",
       "    <tr>\n",
       "      <th>2</th>\n",
       "      <td>john</td>\n",
       "      <td>2006</td>\n",
       "      <td>38.50</td>\n",
       "    </tr>\n",
       "    <tr>\n",
       "      <th>3</th>\n",
       "      <td>alice</td>\n",
       "      <td>2000</td>\n",
       "      <td>60.85</td>\n",
       "    </tr>\n",
       "    <tr>\n",
       "      <th>4</th>\n",
       "      <td>bob</td>\n",
       "      <td>2008</td>\n",
       "      <td>72.40</td>\n",
       "    </tr>\n",
       "    <tr>\n",
       "      <th>5</th>\n",
       "      <td>hillary</td>\n",
       "      <td>2010</td>\n",
       "      <td>65.65</td>\n",
       "    </tr>\n",
       "  </tbody>\n",
       "</table>\n",
       "</div>"
      ],
      "text/plain": [
       "  studentname   YOB  weight\n",
       "0        levy  2002   50.25\n",
       "1       james  2004   45.65\n",
       "2        john  2006   38.50\n",
       "3       alice  2000   60.85\n",
       "4         bob  2008   72.40\n",
       "5     hillary  2010   65.65"
      ]
     },
     "execution_count": 44,
     "metadata": {},
     "output_type": "execute_result"
    }
   ],
   "source": [
    "pd.DataFrame(data, columns= ['studentname','YOB','weight'])"
   ]
  },
  {
   "cell_type": "code",
   "execution_count": 53,
   "id": "6ef6dbd0-b82c-462a-8c34-302a68062ee0",
   "metadata": {},
   "outputs": [
    {
     "name": "stdout",
     "output_type": "stream",
     "text": [
      "['levy', 'james', 'john', 'alice', 'bob', 'hillary']\n",
      "\n",
      "\n",
      "[2002, 2004, 2006, 2000, 2008, 2010]\n",
      "\n",
      "\n",
      "[50.25, 45.65, 38.5, 60.85, 72.4, 65.65]\n"
     ]
    }
   ],
   "source": [
    "print(data['studentname'])\n",
    "print('\\n')\n",
    "print(data['YOB'])\n",
    "print('\\n')\n",
    "print(data['weight'])"
   ]
  },
  {
   "cell_type": "code",
   "execution_count": null,
   "id": "aa19b49a-11c6-4298-bae6-e12cee4a763d",
   "metadata": {},
   "outputs": [],
   "source": []
  }
 ],
 "metadata": {
  "kernelspec": {
   "display_name": "Python 3 (ipykernel)",
   "language": "python",
   "name": "python3"
  },
  "language_info": {
   "codemirror_mode": {
    "name": "ipython",
    "version": 3
   },
   "file_extension": ".py",
   "mimetype": "text/x-python",
   "name": "python",
   "nbconvert_exporter": "python",
   "pygments_lexer": "ipython3",
   "version": "3.12.6"
  }
 },
 "nbformat": 4,
 "nbformat_minor": 5
}

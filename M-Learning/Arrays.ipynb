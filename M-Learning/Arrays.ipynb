{
 "cells": [
  {
   "cell_type": "code",
   "execution_count": 11,
   "id": "f8102761-b70f-4bf5-a9e2-51e9aa6d2ebc",
   "metadata": {},
   "outputs": [
    {
     "name": "stdout",
     "output_type": "stream",
     "text": [
      "[ 10  20  30  40  50  60  70  80  90 100]\n",
      "[[1. 1.]\n",
      " [1. 1.]]\n",
      "[1 2 3]\n",
      "\n",
      "\n",
      "(10,)\n",
      "(2, 2)\n",
      "(3,)\n",
      "\n",
      "\n",
      "int64\n",
      "float64\n",
      "int16\n",
      "\n",
      "\n",
      "8\n",
      "8\n",
      "2\n"
     ]
    }
   ],
   "source": [
    "import numpy as np\n",
    "a = np.array([10,20,30,40,50,60,70,80,90,100])\n",
    "b = np.array([[1., 1.],[1., 1.]])\n",
    "c = np.array([1,2,3],dtype = 'int16')\n",
    "\n",
    "print(a)\n",
    "print(b)\n",
    "print(c)\n",
    "print('\\n')\n",
    "print(a.shape)\n",
    "print(b.shape)\n",
    "print(c.shape)\n",
    "print('\\n')\n",
    "print(a.dtype)\n",
    "print(b.dtype)\n",
    "print(c.dtype)\n",
    "print('\\n')\n",
    "print(a.itemsize)\n",
    "print(b.itemsize)\n",
    "print(c.itemsize)"
   ]
  },
  {
   "cell_type": "code",
   "execution_count": 15,
   "id": "cc206d27-0655-465b-a4ee-5f2f14c65cfe",
   "metadata": {},
   "outputs": [
    {
     "name": "stdout",
     "output_type": "stream",
     "text": [
      "80\n",
      "32\n",
      "6\n"
     ]
    }
   ],
   "source": [
    "print(a.size * a.itemsize)\n",
    "print(b.size * b.itemsize)\n",
    "print(c.size * c.itemsize)"
   ]
  },
  {
   "cell_type": "code",
   "execution_count": null,
   "id": "e6264e2e-d908-48fa-aef0-a4115cb79978",
   "metadata": {},
   "outputs": [],
   "source": []
  }
 ],
 "metadata": {
  "kernelspec": {
   "display_name": "Python 3 (ipykernel)",
   "language": "python",
   "name": "python3"
  },
  "language_info": {
   "codemirror_mode": {
    "name": "ipython",
    "version": 3
   },
   "file_extension": ".py",
   "mimetype": "text/x-python",
   "name": "python",
   "nbconvert_exporter": "python",
   "pygments_lexer": "ipython3",
   "version": "3.12.6"
  }
 },
 "nbformat": 4,
 "nbformat_minor": 5
}
